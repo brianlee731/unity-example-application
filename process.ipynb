{
 "cells": [
  {
   "cell_type": "code",
   "execution_count": 1,
   "id": "1251c9f4",
   "metadata": {},
   "outputs": [],
   "source": [
    "import os\n",
    "import pathlib\n",
    "\n",
    "# Application packages\n",
    "from tabulate import tabulate\n",
    "import netCDF4\n",
    "\n",
    "# stage_in packages\n",
    "from unity_sds_client.resources.collection import Collection\n",
    "\n",
    "# stage_out packages\n",
    "from datetime import datetime, timezone\n",
    "from unity_sds_client.resources.dataset import Dataset\n",
    "from unity_sds_client.resources.data_file import DataFile"
   ]
  },
  {
   "cell_type": "code",
   "execution_count": 2,
   "id": "04ac7f2d",
   "metadata": {
    "tags": [
     "parameters"
    ]
   },
   "outputs": [],
   "source": [
    "input_stac_collection_file = 'test/stage_in/stage_in_results.json' # type: stage-in\n",
    "output_stac_catalog_dir    = 'test/process_results/'                    # type: stage-out\n",
    "\n",
    "# Filename written to the working directory\n",
    "summary_table_filename = \"summary_table.txt\"\n",
    "\n",
    "#For eventual catalogging of this file in the unity environment\n",
    "output_collection = \"urn:nasa:unity:unity:dev:unity-example-application___1\"\n",
    "\n",
    "# Examples of optional arbitrary arguments of different data types\n",
    "example_argument_int = 1\n",
    "example_argument_float = 1.0\n",
    "example_argument_string = \"string\"\n",
    "example_argument_bool = True\n",
    "example_argument_empty = None # type: string Allow a null value or a string\n"
   ]
  },
  {
   "cell_type": "markdown",
   "id": "7926d21b",
   "metadata": {},
   "source": [
    "# Output Example Arguments\n",
    "\n",
    "Table useful for debugging connection of arguments from CWL into notebook. Used for unity-app-generator development and as an example, not an application requirement."
   ]
  },
  {
   "cell_type": "code",
   "execution_count": 3,
   "id": "2eeaa5d4",
   "metadata": {},
   "outputs": [
    {
     "data": {
      "text/html": [
       "<table>\n",
       "<thead>\n",
       "<tr><th>argument_name          </th><th>type              </th><th>value  </th></tr>\n",
       "</thead>\n",
       "<tbody>\n",
       "<tr><td>example_argument_int   </td><td>&lt;class &#x27;int&#x27;&gt;     </td><td>1      </td></tr>\n",
       "<tr><td>example_argument_float </td><td>&lt;class &#x27;float&#x27;&gt;   </td><td>1.0    </td></tr>\n",
       "<tr><td>example_argument_string</td><td>&lt;class &#x27;str&#x27;&gt;     </td><td>string </td></tr>\n",
       "<tr><td>example_argument_bool  </td><td>&lt;class &#x27;bool&#x27;&gt;    </td><td>True   </td></tr>\n",
       "<tr><td>example_argument_empty </td><td>&lt;class &#x27;NoneType&#x27;&gt;</td><td>       </td></tr>\n",
       "</tbody>\n",
       "</table>"
      ],
      "text/plain": [
       "'<table>\\n<thead>\\n<tr><th>argument_name          </th><th>type              </th><th>value  </th></tr>\\n</thead>\\n<tbody>\\n<tr><td>example_argument_int   </td><td>&lt;class &#x27;int&#x27;&gt;     </td><td>1      </td></tr>\\n<tr><td>example_argument_float </td><td>&lt;class &#x27;float&#x27;&gt;   </td><td>1.0    </td></tr>\\n<tr><td>example_argument_string</td><td>&lt;class &#x27;str&#x27;&gt;     </td><td>string </td></tr>\\n<tr><td>example_argument_bool  </td><td>&lt;class &#x27;bool&#x27;&gt;    </td><td>True   </td></tr>\\n<tr><td>example_argument_empty </td><td>&lt;class &#x27;NoneType&#x27;&gt;</td><td>       </td></tr>\\n</tbody>\\n</table>'"
      ]
     },
     "execution_count": 3,
     "metadata": {},
     "output_type": "execute_result"
    }
   ],
   "source": [
    "argument_names = [\n",
    "    'example_argument_int',\n",
    "    'example_argument_float',\n",
    "    'example_argument_string',\n",
    "    'example_argument_bool',\n",
    "    'example_argument_empty',\n",
    "]\n",
    "\n",
    "table_data = []\n",
    "column_names = ['argument_name', 'type', 'value']\n",
    "for arg_name in argument_names:\n",
    "    arg_val = locals()[arg_name]\n",
    "    table_data.append( (arg_name, type(arg_val), arg_val) )\n",
    "\n",
    "tabulate(table_data, headers=column_names, tablefmt='html')"
   ]
  },
  {
   "cell_type": "markdown",
   "id": "60b7fa38",
   "metadata": {},
   "source": [
    "# Import Files from STAC Item Collection\n",
    "\n",
    "Load filenames from the stage_in STAC item collection file"
   ]
  },
  {
   "cell_type": "code",
   "execution_count": 4,
   "id": "3a09d57c",
   "metadata": {},
   "outputs": [
    {
     "data": {
      "text/plain": [
       "['/home/jovyan/unity-example-application/test/stage_in/./SNDR.SS1330.CHIRP.20160822T0005.m06.g001.L1_AQ.std.v02_48.G.200425095850.nc',\n",
       " '/home/jovyan/unity-example-application/test/stage_in/./SNDR.SS1330.CHIRP.20160822T0011.m06.g002.L1_AQ.std.v02_48.G.200425095901.nc']"
      ]
     },
     "execution_count": 4,
     "metadata": {},
     "output_type": "execute_result"
    }
   ],
   "source": [
    "inp_collection = Collection.from_stac(input_stac_collection_file)\n",
    "data_filenames = inp_collection.data_locations()\n",
    "\n",
    "data_filenames"
   ]
  },
  {
   "cell_type": "markdown",
   "id": "73e97444",
   "metadata": {},
   "source": [
    "# Summary Table\n",
    "\n",
    "AKA the result of this \"application\""
   ]
  },
  {
   "cell_type": "code",
   "execution_count": 5,
   "id": "9fbac209",
   "metadata": {},
   "outputs": [],
   "source": [
    "column_names = [\n",
    "    'product_name',\n",
    "    'product_name_type_id',\n",
    "    'shortname',\n",
    "    'product_version',\n",
    "    'date_created',\n",
    "    'time_coverage_start',\n",
    "    'time_coverage_end',\n",
    "    'geospatial_lat_mid',\n",
    "    'geospatial_lon_mid',\n",
    "]"
   ]
  },
  {
   "cell_type": "code",
   "execution_count": 6,
   "id": "d22c8670",
   "metadata": {},
   "outputs": [],
   "source": [
    "table_data = []\n",
    "for data_file in data_filenames:\n",
    "    nc_file = netCDF4.Dataset(data_file, \"r\")\n",
    "    \n",
    "    table_row = []\n",
    "    for col_name in column_names:\n",
    "        table_row.append(getattr(nc_file, col_name))\n",
    "    table_data.append(table_row)"
   ]
  },
  {
   "cell_type": "code",
   "execution_count": 7,
   "id": "3344bd15",
   "metadata": {},
   "outputs": [
    {
     "data": {
      "text/html": [
       "<table>\n",
       "<thead>\n",
       "<tr><th>product_name                                                               </th><th>product_name_type_id  </th><th>shortname  </th><th>product_version  </th><th>date_created        </th><th>time_coverage_start  </th><th>time_coverage_end   </th><th style=\"text-align: right;\">  geospatial_lat_mid</th><th style=\"text-align: right;\">  geospatial_lon_mid</th></tr>\n",
       "</thead>\n",
       "<tbody>\n",
       "<tr><td>SNDR.SS1330.CHIRP.20160822T0005.m06.g001.L1_AQ.std.v02_48.G.200425095850.nc</td><td>L1_AQ                 </td><td>SNDR13CHRP1</td><td>v02.48.00        </td><td>2021-04-25T05:59:08Z</td><td>2016-08-22T00:05:22Z </td><td>2016-08-22T00:11:22Z</td><td style=\"text-align: right;\">            -48.6062</td><td style=\"text-align: right;\">            12.4563 </td></tr>\n",
       "<tr><td>SNDR.SS1330.CHIRP.20160822T0011.m06.g002.L1_AQ.std.v02_48.G.200425095901.nc</td><td>L1_AQ                 </td><td>SNDR13CHRP1</td><td>v02.48.00        </td><td>2021-04-25T05:59:19Z</td><td>2016-08-22T00:11:22Z </td><td>2016-08-22T00:17:22Z</td><td style=\"text-align: right;\">            -69.3979</td><td style=\"text-align: right;\">            -1.98753</td></tr>\n",
       "</tbody>\n",
       "</table>"
      ],
      "text/plain": [
       "'<table>\\n<thead>\\n<tr><th>product_name                                                               </th><th>product_name_type_id  </th><th>shortname  </th><th>product_version  </th><th>date_created        </th><th>time_coverage_start  </th><th>time_coverage_end   </th><th style=\"text-align: right;\">  geospatial_lat_mid</th><th style=\"text-align: right;\">  geospatial_lon_mid</th></tr>\\n</thead>\\n<tbody>\\n<tr><td>SNDR.SS1330.CHIRP.20160822T0005.m06.g001.L1_AQ.std.v02_48.G.200425095850.nc</td><td>L1_AQ                 </td><td>SNDR13CHRP1</td><td>v02.48.00        </td><td>2021-04-25T05:59:08Z</td><td>2016-08-22T00:05:22Z </td><td>2016-08-22T00:11:22Z</td><td style=\"text-align: right;\">            -48.6062</td><td style=\"text-align: right;\">            12.4563 </td></tr>\\n<tr><td>SNDR.SS1330.CHIRP.20160822T0011.m06.g002.L1_AQ.std.v02_48.G.200425095901.nc</td><td>L1_AQ                 </td><td>SNDR13CHRP1</td><td>v02.48.00        </td><td>2021-04-25T05:59:19Z</td><td>2016-08-22T00:11:22Z </td><td>2016-08-22T00:17:22Z</td><td style=\"text-align: right;\">            -69.3979</td><td style=\"text-align: right;\">            -1.98753</td></tr>\\n</tbody>\\n</table>'"
      ]
     },
     "execution_count": 7,
     "metadata": {},
     "output_type": "execute_result"
    }
   ],
   "source": [
    "# Output the table in html format\n",
    "tabulate(table_data, headers=column_names, tablefmt='html')"
   ]
  },
  {
   "cell_type": "code",
   "execution_count": 8,
   "id": "014257f3",
   "metadata": {},
   "outputs": [],
   "source": [
    "# Write the table in text format\n",
    "pathlib.Path(output_stac_catalog_dir).mkdir(parents=True, exist_ok=True)\n",
    "output_filename = os.path.join(output_stac_catalog_dir, summary_table_filename)\n",
    "with open(output_filename, \"w\") as summary_file:\n",
    "    summary_file.write(tabulate(table_data, headers=column_names))"
   ]
  },
  {
   "cell_type": "markdown",
   "id": "89224c4e",
   "metadata": {},
   "source": [
    "# Create stage-out item catalog"
   ]
  },
  {
   "cell_type": "code",
   "execution_count": 9,
   "id": "b4aa5d3b",
   "metadata": {},
   "outputs": [],
   "source": [
    "# Create a collection\n",
    "out_collection  = Collection(output_collection)\n",
    "    \n",
    "# Create a Dataset for the collection\n",
    "dataset = Dataset(\n",
    "    name=summary_table_filename, \n",
    "    collection_id=out_collection.collection_id, \n",
    "    start_time=datetime.utcnow().replace(tzinfo=timezone.utc).isoformat(), \n",
    "    end_time=datetime.utcnow().replace(tzinfo=timezone.utc).isoformat(),\n",
    "    creation_time=datetime.utcnow().replace(tzinfo=timezone.utc).isoformat(),\n",
    ")\n",
    "\n",
    "# Add output file(s) to the dataset\n",
    "dataset.add_data_file(DataFile(\"csv\", summary_table_filename, [\"data\"]))\n",
    "\n",
    "#when we run \"to_stac\" below, this file  will be generated. this needs to be added to the stac file itself for future reference.\n",
    "dataset.add_data_file(DataFile(\"json\", output_stac_catalog_dir + \"/\" + summary_table_filename +'.json', [\"metadata\"] ))\n",
    "\n",
    "\n",
    "# Add the dataset to the collection\n",
    "#out_collection.add_dataset(dataset)\n",
    "out_collection._datasets.append(dataset)\n",
    "\n",
    "Collection.to_stac(out_collection, output_stac_catalog_dir)"
   ]
  },
  {
   "cell_type": "code",
   "execution_count": null,
   "id": "14f240b6-b5ea-4bf8-8764-ecf12eee6c16",
   "metadata": {},
   "outputs": [],
   "source": []
  }
 ],
 "metadata": {
  "celltoolbar": "Tags",
  "kernelspec": {
   "display_name": "Python 3 (ipykernel)",
   "language": "python",
   "name": "python3"
  },
  "language_info": {
   "codemirror_mode": {
    "name": "ipython",
    "version": 3
   },
   "file_extension": ".py",
   "mimetype": "text/x-python",
   "name": "python",
   "nbconvert_exporter": "python",
   "pygments_lexer": "ipython3",
   "version": "3.8.18"
  }
 },
 "nbformat": 4,
 "nbformat_minor": 5
}
