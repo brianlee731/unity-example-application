{
 "cells": [
  {
   "cell_type": "markdown",
   "id": "153b4936-715c-4bbf-8ed5-16817b1b009b",
   "metadata": {
    "editable": true,
    "slideshow": {
     "slide_type": ""
    },
    "tags": []
   },
   "source": [
    "# Retrieve UNITY Token\n",
    "\n",
    "Execute this notebook to retrieve your Unity Token."
   ]
  },
  {
   "cell_type": "code",
   "execution_count": null,
   "id": "b501e275-00ce-4601-84dd-efcf3c858123",
   "metadata": {},
   "outputs": [],
   "source": [
    "import requests\n",
    "\n",
    "from unity_sds_client.unity import Unity\n",
    "from unity_sds_client.unity import UnityEnvironments\n",
    "\n",
    "s = Unity(UnityEnvironments.TEST)\n",
    "token = s._session.get_auth().get_token()\n",
    "\n",
    "print(\"Here's your token: \" + token)"
   ]
  },
  {
   "cell_type": "code",
   "execution_count": null,
   "id": "8094569b-31c6-4969-9dc9-f1474a7a2d52",
   "metadata": {},
   "outputs": [],
   "source": []
  }
 ],
 "metadata": {
  "kernelspec": {
   "display_name": "Python 3 (ipykernel)",
   "language": "python",
   "name": "python3"
  },
  "language_info": {
   "codemirror_mode": {
    "name": "ipython",
    "version": 3
   },
   "file_extension": ".py",
   "mimetype": "text/x-python",
   "name": "python",
   "nbconvert_exporter": "python",
   "pygments_lexer": "ipython3",
   "version": "3.11.6"
  }
 },
 "nbformat": 4,
 "nbformat_minor": 5
}
